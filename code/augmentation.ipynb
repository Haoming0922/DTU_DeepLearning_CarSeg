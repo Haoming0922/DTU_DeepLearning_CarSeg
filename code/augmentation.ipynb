{
 "cells": [
  {
   "cell_type": "code",
   "execution_count": 233,
   "metadata": {},
   "outputs": [],
   "source": [
    "import numpy as np\n",
    "import os\n",
    "import torchvision\n",
    "from PIL import Image\n",
    "import cv2\n",
    "from skimage import color\n",
    "from skimage import io\n",
    "from tqdm import tqdm\n",
    "from glob import glob\n",
    "import torch\n",
    "from albumentations import CenterCrop, RandomRotate90, GridDistortion, HorizontalFlip, VerticalFlip"
   ]
  },
  {
   "cell_type": "markdown",
   "metadata": {},
   "source": [
    "### Data Augmentation"
   ]
  },
  {
   "cell_type": "code",
   "execution_count": 654,
   "metadata": {},
   "outputs": [],
   "source": [
    "np_dir = \"/dtu/blackhole/11/173553/carseg_data/train\"\n",
    "bg_dir = \"/dtu/blackhole/11/173553/carseg_data/carseg_raw_data/landscape/images\""
   ]
  },
  {
   "cell_type": "markdown",
   "metadata": {},
   "source": [
    "Add Background"
   ]
  },
  {
   "cell_type": "code",
   "execution_count": 655,
   "metadata": {},
   "outputs": [],
   "source": [
    "def get_random_bg():\n",
    "    bg_dir = \"/dtu/blackhole/11/173553/carseg_data/carseg_raw_data/landscape/images\"\n",
    "    bgs_path = os.listdir(bg_dir)    \n",
    "    while True:\n",
    "        idx = np.random.randint(low=0, high=len(bgs_path))\n",
    "        bg_path = os.path.join(bg_dir,bgs_path[idx])\n",
    "        bg = cv2.imread(bg_path)\n",
    "        resized_bg = cv2.resize(bg,(np_img.shape[1], np_img.shape[2]), interpolation = cv2.INTER_AREA)\n",
    "        return resized_bg"
   ]
  },
  {
   "cell_type": "markdown",
   "metadata": {},
   "source": [
    "Image Augmentation"
   ]
  },
  {
   "cell_type": "code",
   "execution_count": 665,
   "metadata": {},
   "outputs": [],
   "source": [
    "def augment_data(img):\n",
    "    \n",
    "    H = 256\n",
    "    W = 256\n",
    "\n",
    "    x = np.transpose(img[:3]*255,(1,2,0)).astype(np.uint8)\n",
    "    y = img[3]\n",
    "\n",
    "    np.random.seed(0)\n",
    "    mod = np.random.randint(low=0, high=5)\n",
    "\n",
    "    if mod==0:\n",
    "        aug = CenterCrop(H, W, p=1.0)\n",
    "        augmented = aug(image=x, mask=y)\n",
    "        x_aug = augmented[\"image\"]\n",
    "        y_aug = augmented[\"mask\"]\n",
    "\n",
    "    if mod==1:\n",
    "        aug = RandomRotate90(p=1.0)\n",
    "        augmented = aug(image=x, mask=y)\n",
    "        x_aug = augmented['image']\n",
    "        y_aug = augmented['mask']\n",
    "\n",
    "    if mod==2:\n",
    "        aug = GridDistortion(p=1.0)\n",
    "        augmented = aug(image=x, mask=y)\n",
    "        x_aug = augmented['image']\n",
    "        y_aug = augmented['mask']\n",
    "\n",
    "    if mod==3:\n",
    "        aug = HorizontalFlip(p=1.0)\n",
    "        augmented = aug(image=x, mask=y)\n",
    "        x_aug = augmented['image']\n",
    "        y_aug = augmented['mask']\n",
    "\n",
    "    if mod==4:\n",
    "        aug = VerticalFlip(p=1.0)\n",
    "        augmented = aug(image=x, mask=y)\n",
    "        x_aug = augmented['image']\n",
    "        y_aug = augmented['mask']\n",
    "\n",
    "    i = cv2.resize(x_aug, (W, H))\n",
    "    i = np.transpose(i/255,(2,0,1))\n",
    "    m = cv2.resize(y_aug, (W, H))\n",
    "    m = np.reshape(m,(1,256,256))\n",
    "    res = np.concatenate((i,m),axis=0)\n",
    "\n",
    "    return res,mod"
   ]
  },
  {
   "cell_type": "code",
   "execution_count": 666,
   "metadata": {},
   "outputs": [],
   "source": [
    "def get_file(dir):\n",
    "    listOfFile = os.listdir(dir)\n",
    "    allFiles = []\n",
    "    for entry in listOfFile:\n",
    "        fullPath = os.path.join(dir, entry)\n",
    "        allFiles.append(fullPath)\n",
    "    return allFiles"
   ]
  },
  {
   "cell_type": "markdown",
   "metadata": {},
   "source": [
    "add random background and one type of data augmentation"
   ]
  },
  {
   "cell_type": "code",
   "execution_count": 668,
   "metadata": {},
   "outputs": [],
   "source": [
    "nps_path = os.listdir(np_dir)\n",
    "for np_path in tqdm(nps_path):\n",
    "    np_img = np.load(os.path.join(np_dir,np_path))\n",
    "    bg = get_random_bg()\n",
    "    np_img[:3] *= 255\n",
    "    for i in range(np_img.shape[1]):\n",
    "        for j in range(np_img.shape[2]):\n",
    "            if np_img[3][i][j]==0:\n",
    "                np_img[0][i][j] = bg[i][j][0]\n",
    "                np_img[1][i][j] = bg[i][j][1]\n",
    "                np_img[2][i][j] = bg[i][j][2]\n",
    "    np_img[:3] /= 255\n",
    "    res,mod = augment_data(np_img)\n",
    "    name = os.path.join(np_dir,np_path)[:-4]+\"_aug_\"+str(mod)+\".npy\"\n",
    "    np.save(name,res)"
   ]
  },
  {
   "cell_type": "code",
   "execution_count": 675,
   "metadata": {},
   "outputs": [
    {
     "data": {
      "text/plain": [
       "6988"
      ]
     },
     "execution_count": 675,
     "metadata": {},
     "output_type": "execute_result"
    }
   ],
   "source": [
    "nps_path = os.listdir(np_dir)\n",
    "len(nps_path)"
   ]
  },
  {
   "cell_type": "markdown",
   "metadata": {},
   "source": [
    "show image from numpy array"
   ]
  },
  {
   "cell_type": "code",
   "execution_count": 561,
   "metadata": {},
   "outputs": [],
   "source": [
    "def show_img_from_np(x):\n",
    "    if(type(x)==np.ndarray):\n",
    "        np_data = x\n",
    "    else:\n",
    "        np_data = np.load(x)\n",
    "    img_from_np = np.transpose(np_data[:3]*255,(1,2,0)).astype(np.uint8)\n",
    "    img = Image.fromarray(img_from_np,mode=\"RGB\")\n",
    "    img.save('my.png')\n",
    "    img.show()"
   ]
  },
  {
   "cell_type": "code",
   "execution_count": 681,
   "metadata": {},
   "outputs": [
    {
     "name": "stdout",
     "output_type": "stream",
     "text": [
      "START /usr/bin/eog \"/tmp/tmplbny8_q5.PNG\"\n"
     ]
    },
    {
     "name": "stderr",
     "output_type": "stream",
     "text": [
      "\n",
      "(eog:16667): Gtk-WARNING **: 17:03:38.655: cannot open display: \n"
     ]
    }
   ],
   "source": [
    "show_img_from_np(\"/dtu/blackhole/11/173553/carseg_data/train/332_aug_2.npy\")"
   ]
  },
  {
   "cell_type": "code",
   "execution_count": 617,
   "metadata": {},
   "outputs": [
    {
     "name": "stdout",
     "output_type": "stream",
     "text": [
      "START /usr/bin/eog \"/tmp/tmpf0h8rskh.PNG\"\n"
     ]
    },
    {
     "name": "stderr",
     "output_type": "stream",
     "text": [
      "\n",
      "(eog:10380): Gtk-WARNING **: 15:03:19.383: cannot open display: \n"
     ]
    }
   ],
   "source": [
    "show_img_from_np(\"/dtu/blackhole/11/173553/carseg_data/clean_data/0_addbg.npy\")"
   ]
  },
  {
   "cell_type": "markdown",
   "metadata": {},
   "source": [
    "show mask from numpy array"
   ]
  },
  {
   "cell_type": "code",
   "execution_count": 648,
   "metadata": {},
   "outputs": [],
   "source": [
    "label = np.load(\"/dtu/blackhole/11/173553/carseg_data/clean_data/1_aug_2.npy\")[3]\n",
    "label = np.reshape(label,(1,256,256))\n",
    "a = np.zeros((1,256,256))\n",
    "final_img = np.concatenate((a,a,label),axis=0)\n",
    "\n",
    "img = Image.fromarray(np.transpose(final_img*25,(1,2,0)).astype(np.uint8),mode=\"RGB\")\n",
    "img.save('my.png')\n",
    "img.show()"
   ]
  },
  {
   "cell_type": "markdown",
   "metadata": {},
   "source": [
    "### Map color and label (useless)"
   ]
  },
  {
   "cell_type": "code",
   "execution_count": null,
   "metadata": {},
   "outputs": [],
   "source": [
    "img = Image.open(\"/dtu/blackhole/11/173553/carseg_data/clean_data/1_a.npy\")\n",
    "img"
   ]
  },
  {
   "cell_type": "code",
   "execution_count": 309,
   "metadata": {},
   "outputs": [
    {
     "data": {
      "text/plain": [
       "(256, 512, 3)"
      ]
     },
     "execution_count": 309,
     "metadata": {},
     "output_type": "execute_result"
    }
   ],
   "source": [
    "np_img = np.array(img)\n",
    "np_img.shape"
   ]
  },
  {
   "cell_type": "code",
   "execution_count": 311,
   "metadata": {},
   "outputs": [],
   "source": [
    "colors = [[19,100,19],\n",
    "         [15,248,250],\n",
    "         [20,19,251],\n",
    "         [249,249,10],\n",
    "         [250,149,10],\n",
    "         [149,7,149], \n",
    "         [249,9,250],\n",
    "         [8,249,9],\n",
    "         [117,31,0]]\n",
    "\n",
    "def img2mask(np_img):\n",
    "    threshold = 50\n",
    "    new_np = np.zeros((np_img.shape[0],np_img.shape[1]))\n",
    "    for i in range(np_img.shape[0]):\n",
    "        for j in range(np_img.shape[1]):\n",
    "            for k, color in enumerate(colors):\n",
    "                # if np_img[i][j][0]==color[0] and np_img[i][j][1]==color[1] and abs(np_img[i][j][2]==color[2]):\n",
    "                if not np_img[i][j][2]==np_img[i][j][1]==np_img[i][j][0]:\n",
    "                    if abs(np_img[i][j][0]-color[0])<=threshold and abs(np_img[i][j][1]-color[1])<=threshold and abs(np_img[i][j][2]-color[2])<=threshold:\n",
    "                       new_np[i,j] = k+1\n",
    "    return new_np\n",
    "\n",
    "def mask2img(mask):\n",
    "    new_np = np.zeros((mask.shape[0],mask.shape[1],3))\n",
    "    for i in range(mask.shape[0]):\n",
    "        for j in range(mask.shape[1]):\n",
    "            if mask[i][j]:\n",
    "                new_np[i][j] = colors[int(mask[i][j]-1)]\n",
    "    return new_np"
   ]
  },
  {
   "cell_type": "code",
   "execution_count": 312,
   "metadata": {},
   "outputs": [
    {
     "data": {
      "text/plain": [
       "((256, 512), (256, 512, 3))"
      ]
     },
     "execution_count": 312,
     "metadata": {},
     "output_type": "execute_result"
    }
   ],
   "source": [
    "a = img2mask(np_img)\n",
    "b = mask2img(a)\n",
    "a.shape,b.shape "
   ]
  },
  {
   "cell_type": "code",
   "execution_count": 313,
   "metadata": {},
   "outputs": [
    {
     "name": "stdout",
     "output_type": "stream",
     "text": [
      "START /usr/bin/eog \"/tmp/tmpmly21c_m.PNG\"\n"
     ]
    },
    {
     "name": "stderr",
     "output_type": "stream",
     "text": [
      "\n",
      "(eog:731): Gtk-WARNING **: 06:27:40.205: cannot open display: \n"
     ]
    }
   ],
   "source": [
    "img = Image.fromarray(b.astype(np.uint8))\n",
    "img.save('my.png')\n",
    "img.show()"
   ]
  }
 ],
 "metadata": {
  "kernelspec": {
   "display_name": "Python 3",
   "language": "python",
   "name": "python3"
  },
  "language_info": {
   "codemirror_mode": {
    "name": "ipython",
    "version": 3
   },
   "file_extension": ".py",
   "mimetype": "text/x-python",
   "name": "python",
   "nbconvert_exporter": "python",
   "pygments_lexer": "ipython3",
   "version": "3.8.10 (default, Jun 22 2022, 20:18:18) \n[GCC 9.4.0]"
  },
  "orig_nbformat": 4,
  "vscode": {
   "interpreter": {
    "hash": "916dbcbb3f70747c44a77c7bcd40155683ae19c65e1c03b4aa3499c5328201f1"
   }
  }
 },
 "nbformat": 4,
 "nbformat_minor": 2
}
